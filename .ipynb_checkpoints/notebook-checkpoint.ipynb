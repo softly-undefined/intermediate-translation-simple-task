{
 "cells": [
  {
   "cell_type": "markdown",
   "metadata": {},
   "source": [
    "# Intermediate Translation Language Study\n",
    "\n",
    "This is a simple-ish example of what a study of the study of the effect on different languages could look like."
   ]
  },
  {
   "cell_type": "code",
   "execution_count": 2,
   "metadata": {},
   "outputs": [],
   "source": [
    "import os\n",
    "import pandas as pd\n",
    "import matplotlib.pyplot as plt\n",
    "import nltk\n",
    "from nltk.translate.bleu_score import sentence_bleu, corpus_bleu, SmoothingFunction\n",
    "from comet import download_model, load_from_checkpoint\n",
    "import numpy as np"
   ]
  },
  {
   "cell_type": "markdown",
   "metadata": {},
   "source": [
    "Uploading the dataset:"
   ]
  },
  {
   "cell_type": "code",
   "execution_count": 3,
   "metadata": {},
   "outputs": [],
   "source": [
    "df2008 = pd.read_csv(\"cwmt2008_ce_news.tsv\", delimiter=\"\\t\")\n",
    "df2008 = df2008.head(500)"
   ]
  },
  {
   "cell_type": "markdown",
   "metadata": {},
   "source": [
    "Next we will upload the translations created through the translation.py file! It's noted more clearly there but the translations between the different languages were all completed through OpenAI's gpt-4o model.\n",
    "\n",
    "Note that the order in the column names shows how the translation was completed (ChineseEnglish is simply Chinese to English, ChineseJapaneseEnglish is Chinese to Japanese to English, and so on)"
   ]
  },
  {
   "cell_type": "code",
   "execution_count": 4,
   "metadata": {},
   "outputs": [
    {
     "data": {
      "text/html": [
       "<div>\n",
       "<style scoped>\n",
       "    .dataframe tbody tr th:only-of-type {\n",
       "        vertical-align: middle;\n",
       "    }\n",
       "\n",
       "    .dataframe tbody tr th {\n",
       "        vertical-align: top;\n",
       "    }\n",
       "\n",
       "    .dataframe thead th {\n",
       "        text-align: right;\n",
       "    }\n",
       "</style>\n",
       "<table border=\"1\" class=\"dataframe\">\n",
       "  <thead>\n",
       "    <tr style=\"text-align: right;\">\n",
       "      <th></th>\n",
       "      <th>datasource</th>\n",
       "      <th>domain</th>\n",
       "      <th>setid</th>\n",
       "      <th>srclang</th>\n",
       "      <th>trglang</th>\n",
       "      <th>src</th>\n",
       "      <th>ref1</th>\n",
       "      <th>ref2</th>\n",
       "      <th>ref3</th>\n",
       "      <th>ChineseEnglish</th>\n",
       "      <th>ChineseJapaneseEnglish</th>\n",
       "      <th>ChineseGermanEnglish</th>\n",
       "      <th>ChineseTurkishEnglish</th>\n",
       "      <th>ChineseRussianEnglish</th>\n",
       "      <th>ChineseJapaneseGermanEnglish</th>\n",
       "      <th>ChineseGermanJapaneseEnglish</th>\n",
       "    </tr>\n",
       "  </thead>\n",
       "  <tbody>\n",
       "    <tr>\n",
       "      <th>0</th>\n",
       "      <td>cwmt2008</td>\n",
       "      <td>ce-news</td>\n",
       "      <td>zh_en_news_trans</td>\n",
       "      <td>zh</td>\n",
       "      <td>en</td>\n",
       "      <td>狭小的防震棚已经成为北川擂鼓镇农民张秀华（58岁）临时的家，而就在这个“家”的中央，悬挂了一...</td>\n",
       "      <td>A small narrow anti-earthquake tent became the...</td>\n",
       "      <td>The shockproof shed has become a temporary hom...</td>\n",
       "      <td>The narrow quakeproof shelter has become the t...</td>\n",
       "      <td>The cramped earthquake-resistant shelter has b...</td>\n",
       "      <td>The small earthquake-resistant shelf has becom...</td>\n",
       "      <td>The small earthquake shelter has already becom...</td>\n",
       "      <td>The narrow earthquake-resistant shelter has be...</td>\n",
       "      <td>A narrow protective shelter has become a tempo...</td>\n",
       "      <td>The narrow earthquake protection shelf serves ...</td>\n",
       "      <td>The cramped earthquake-resistant accommodation...</td>\n",
       "    </tr>\n",
       "    <tr>\n",
       "      <th>1</th>\n",
       "      <td>cwmt2008</td>\n",
       "      <td>ce-news</td>\n",
       "      <td>zh_en_news_trans</td>\n",
       "      <td>zh</td>\n",
       "      <td>en</td>\n",
       "      <td>画像中，中共中央总书记胡锦涛和国务院总理温家宝两人在绵阳机场紧紧握手，画像下有一行题字：“伟...</td>\n",
       "      <td>In this portrait, Hu Jintao, the General Secre...</td>\n",
       "      <td>The picture showed General Secretary of the Co...</td>\n",
       "      <td>Hu Jintao, the general secretary of the CPC Ce...</td>\n",
       "      <td>In the image, General Secretary of the Communi...</td>\n",
       "      <td>In the image, Hu Jintao, General Secretary of ...</td>\n",
       "      <td>In the picture, the General Secretary of the C...</td>\n",
       "      <td>In the image, Chinese Communist Party General ...</td>\n",
       "      <td>In the image, Hu Jintao, General Secretary of ...</td>\n",
       "      <td>In the picture, the General Secretary of the C...</td>\n",
       "      <td>The photo shows Hu Jintao, the General Secreta...</td>\n",
       "    </tr>\n",
       "  </tbody>\n",
       "</table>\n",
       "</div>"
      ],
      "text/plain": [
       "  datasource   domain             setid srclang trglang  \\\n",
       "0   cwmt2008  ce-news  zh_en_news_trans      zh      en   \n",
       "1   cwmt2008  ce-news  zh_en_news_trans      zh      en   \n",
       "\n",
       "                                                 src  \\\n",
       "0  狭小的防震棚已经成为北川擂鼓镇农民张秀华（58岁）临时的家，而就在这个“家”的中央，悬挂了一...   \n",
       "1  画像中，中共中央总书记胡锦涛和国务院总理温家宝两人在绵阳机场紧紧握手，画像下有一行题字：“伟...   \n",
       "\n",
       "                                                ref1  \\\n",
       "0  A small narrow anti-earthquake tent became the...   \n",
       "1  In this portrait, Hu Jintao, the General Secre...   \n",
       "\n",
       "                                                ref2  \\\n",
       "0  The shockproof shed has become a temporary hom...   \n",
       "1  The picture showed General Secretary of the Co...   \n",
       "\n",
       "                                                ref3  \\\n",
       "0  The narrow quakeproof shelter has become the t...   \n",
       "1  Hu Jintao, the general secretary of the CPC Ce...   \n",
       "\n",
       "                                      ChineseEnglish  \\\n",
       "0  The cramped earthquake-resistant shelter has b...   \n",
       "1  In the image, General Secretary of the Communi...   \n",
       "\n",
       "                              ChineseJapaneseEnglish  \\\n",
       "0  The small earthquake-resistant shelf has becom...   \n",
       "1  In the image, Hu Jintao, General Secretary of ...   \n",
       "\n",
       "                                ChineseGermanEnglish  \\\n",
       "0  The small earthquake shelter has already becom...   \n",
       "1  In the picture, the General Secretary of the C...   \n",
       "\n",
       "                               ChineseTurkishEnglish  \\\n",
       "0  The narrow earthquake-resistant shelter has be...   \n",
       "1  In the image, Chinese Communist Party General ...   \n",
       "\n",
       "                               ChineseRussianEnglish  \\\n",
       "0  A narrow protective shelter has become a tempo...   \n",
       "1  In the image, Hu Jintao, General Secretary of ...   \n",
       "\n",
       "                        ChineseJapaneseGermanEnglish  \\\n",
       "0  The narrow earthquake protection shelf serves ...   \n",
       "1  In the picture, the General Secretary of the C...   \n",
       "\n",
       "                        ChineseGermanJapaneseEnglish  \n",
       "0  The cramped earthquake-resistant accommodation...  \n",
       "1  The photo shows Hu Jintao, the General Secreta...  "
      ]
     },
     "execution_count": 4,
     "metadata": {},
     "output_type": "execute_result"
    }
   ],
   "source": [
    "translations2008 = pd.read_csv(\"translations2008.csv\")\n",
    "\n",
    "#This will add the translations we did to the main dataframe.\n",
    "for col in translations2008.columns:\n",
    "    df2008[col] = translations2008[col]\n",
    "\n",
    "df2008.head(2)"
   ]
  },
  {
   "cell_type": "code",
   "execution_count": 5,
   "metadata": {},
   "outputs": [
    {
     "name": "stdout",
     "output_type": "stream",
     "text": [
      "ChineseEnglish\n",
      "ChineseJapaneseEnglish\n",
      "ChineseGermanEnglish\n",
      "ChineseTurkishEnglish\n",
      "ChineseRussianEnglish\n",
      "ChineseJapaneseGermanEnglish\n",
      "ChineseGermanJapaneseEnglish\n"
     ]
    }
   ],
   "source": [
    "#finding colnames to use when calculating BLEU Scores\n",
    "source_targets = [('Chinese', 'English'),('Chinese', 'Japanese', 'English'), ('Chinese', 'German', 'English'), ('Chinese', 'Turkish', 'English'), ('Chinese', 'Russian', 'English'), ('Chinese', 'Japanese', 'German', 'English'), ('Chinese', 'German', 'Japanese', 'English')]\n",
    "colnames = []\n",
    "for translation_course in source_targets:\n",
    "    name = \"\"\n",
    "    for lang in translation_course:\n",
    "        name = name + lang\n",
    "    colnames.append(name)\n",
    "\n",
    "for name in colnames:\n",
    "    print(name)"
   ]
  },
  {
   "cell_type": "markdown",
   "metadata": {},
   "source": [
    "# Example Translations\n",
    "\n",
    "Here are a couple ample translations so we can examine what the differences may be."
   ]
  },
  {
   "cell_type": "code",
   "execution_count": 6,
   "metadata": {},
   "outputs": [
    {
     "name": "stdout",
     "output_type": "stream",
     "text": [
      "Reference Translations: \n",
      "ref1: Love filled the city with the warmth of a home.\n",
      "ref2: Loving heart makes the city be filled with family's kindness.\n",
      "ref3: Love makes the city full of warmth of home\n",
      "\n",
      "ChineseEnglish: \n",
      "Love fills the city with the warmth of home.\n",
      "\n",
      "ChineseJapaneseEnglish: \n",
      "Love gives warmth to a home in the city.\n",
      "\n",
      "ChineseGermanEnglish: \n",
      "Love fills the city with the warmth of a home.\n",
      "\n",
      "ChineseTurkishEnglish: \n",
      "Love fills the city with the warmth of home.\n",
      "\n",
      "ChineseRussianEnglish: \n",
      "Love fills the city with the warmth of home comfort.\n",
      "\n",
      "ChineseJapaneseGermanEnglish: \n",
      "Love fills the warmth of a home in the city.\n",
      "\n",
      "ChineseGermanJapaneseEnglish: \n",
      "Love fills the city with the warmth of home.\n",
      "\n"
     ]
    }
   ],
   "source": [
    "print(f\"Reference Translations: \\nref1: {df2008.iloc[94]['ref1']}\\nref2: {df2008.iloc[94]['ref2']}\\nref3: {df2008.iloc[94]['ref3']}\\n\")\n",
    "\n",
    "for name in colnames:\n",
    "    print(f\"{name}: \\n{df2008.iloc[94][name]}\\n\")\n"
   ]
  },
  {
   "cell_type": "markdown",
   "metadata": {},
   "source": [
    "Why do these different translation paths lead to these different results? I don't think I'm well taught enough in linguistics to know but interesting to consider."
   ]
  },
  {
   "cell_type": "markdown",
   "metadata": {},
   "source": [
    "# Calculating BLEU Scores"
   ]
  },
  {
   "cell_type": "code",
   "execution_count": 8,
   "metadata": {},
   "outputs": [],
   "source": [
    "#creating a references array for the 2008 dataset in a format acceptable to corpus_bleu\n",
    "bleu_scores2008 = []\n",
    "\n",
    "df2008[['ref1', 'ref2', 'ref3']] = df2008[['ref1', 'ref2', 'ref3']].astype(str)\n",
    "references2008 = df2008[['ref1', 'ref2', 'ref3']].values.tolist()\n",
    "references2008 = [[sentence.split() for sentence in ref_group] for ref_group in references2008]\n",
    "\n",
    "for name in colnames:\n",
    "    df2008[name] = df2008[name].astype(str)\n",
    "    candidates2008 = df2008[name].values.tolist()\n",
    "    candidates2008 = [sentence.split() for sentence in candidates2008]\n",
    "    \n",
    "    bleu_score = corpus_bleu(references2008, candidates2008)\n",
    "    \n",
    "    bleu_scores2008.append((name, bleu_score))"
   ]
  },
  {
   "cell_type": "markdown",
   "metadata": {},
   "source": [
    "# BLEU Visualization"
   ]
  },
  {
   "cell_type": "code",
   "execution_count": 9,
   "metadata": {},
   "outputs": [
    {
     "data": {
      "image/png": "[encoded data removed]",
      "text/plain": [
       "<Figure size 600x400 with 1 Axes>"
      ]
     },
     "metadata": {},
     "output_type": "display_data"
    },
    {
     "name": "stdout",
     "output_type": "stream",
     "text": [
      "BLEU Scores: \n",
      "\n",
      "ChineseEnglish BLEU score (2008 Dataset): 0.35625709379251674\n",
      "ChineseJapaneseEnglish BLEU score (2008 Dataset): 0.2670668198216971\n",
      "ChineseGermanEnglish BLEU score (2008 Dataset): 0.288294022967804\n",
      "ChineseTurkishEnglish BLEU score (2008 Dataset): 0.2705837630646435\n",
      "ChineseRussianEnglish BLEU score (2008 Dataset): 0.2663629426854267\n",
      "ChineseJapaneseGermanEnglish BLEU score (2008 Dataset): 0.23653280907459534\n",
      "ChineseGermanJapaneseEnglish BLEU score (2008 Dataset): 0.24439025303823267\n"
     ]
    }
   ],
   "source": [
    "vis_df2008 = pd.DataFrame(bleu_scores2008, columns=['name', 'score'])\n",
    "vis_df2008 = vis_df2008.sort_values(by='score', ascending=False)\n",
    "\n",
    "plt.figure(figsize=(6, 4))\n",
    "plt.bar(vis_df2008['name'], vis_df2008['score'], color='#ADCEEB')\n",
    "plt.title('2008 BLEU Scores')\n",
    "plt.xlabel('Model')\n",
    "plt.ylabel('Score')\n",
    "plt.xticks(rotation=45, ha='right')\n",
    "plt.grid(axis='y')\n",
    "plt.tight_layout()\n",
    "plt.show()\n",
    "\n",
    "print(\"BLEU Scores: \\n\")\n",
    "\n",
    "for name, bleu_score in bleu_scores2008:\n",
    "    print(f\"{name} BLEU score (2008 Dataset): {bleu_score}\")"
   ]
  },
  {
   "cell_type": "markdown",
   "metadata": {},
   "source": [
    "# COMET Evaluation For the Practice\n",
    "\n",
    "I'll also conduct an evaluation using the newer COMET to confirm the translation rankings hold true."
   ]
  },
  {
   "cell_type": "code",
   "execution_count": 9,
   "metadata": {},
   "outputs": [
    {
     "data": {
      "application/vnd.jupyter.widget-view+json": {
       "model_id": "7cede3340e544038bfd5354401970ab8",
       "version_major": 2,
       "version_minor": 0
      },
      "text/plain": [
       "Fetching 5 files:   0%|          | 0/5 [00:00<?, ?it/s]"
      ]
     },
     "metadata": {},
     "output_type": "display_data"
    },
    {
     "name": "stderr",
     "output_type": "stream",
     "text": [
      "/Users/ericbennett/miniforge3/lib/python3.10/site-packages/lightning_fabric/utilities/cloud_io.py:57: You are using `torch.load` with `weights_only=False` (the current default value), which uses the default pickle module implicitly. It is possible to construct malicious pickle data which will execute arbitrary code during unpickling (See https://github.com/pytorch/pytorch/blob/main/SECURITY.md#untrusted-models for more details). In a future release, the default value for `weights_only` will be flipped to `True`. This limits the functions that could be executed during unpickling. Arbitrary objects will no longer be allowed to be loaded via this mode unless they are explicitly allowlisted by the user via `torch.serialization.add_safe_globals`. We recommend you start setting `weights_only=True` for any use case where you don't have full control of the loaded file. Please open an issue on GitHub for any issues related to this experimental feature.\n",
      "Lightning automatically upgraded your loaded checkpoint from v1.8.3.post1 to v2.3.3. To apply the upgrade to your files permanently, run `python -m pytorch_lightning.utilities.upgrade_checkpoint ../../../.cache/huggingface/hub/models--Unbabel--wmt22-comet-da/snapshots/371e9839ca4e213dde891b066cf3080f75ec7e72/checkpoints/model.ckpt`\n",
      "Encoder model frozen.\n",
      "/Users/ericbennett/miniforge3/lib/python3.10/site-packages/pytorch_lightning/core/saving.py:195: Found keys that are not in the model state dict but in the checkpoint: ['encoder.model.embeddings.position_ids']\n",
      "GPU available: True (mps), used: False\n",
      "TPU available: False, using: 0 TPU cores\n",
      "HPU available: False, using: 0 HPUs\n",
      "/Users/ericbennett/miniforge3/lib/python3.10/site-packages/pytorch_lightning/trainer/setup.py:177: GPU available but not used. You can set it by doing `Trainer(accelerator='gpu')`.\n",
      "Predicting DataLoader 0: 100%|██████████████████| 63/63 [01:48<00:00,  1.72s/it]\n"
     ]
    },
    {
     "data": {
      "application/vnd.jupyter.widget-view+json": {
       "model_id": "509d81641819444f827f12ed6bf07f07",
       "version_major": 2,
       "version_minor": 0
      },
      "text/plain": [
       "Fetching 5 files:   0%|          | 0/5 [00:00<?, ?it/s]"
      ]
     },
     "metadata": {},
     "output_type": "display_data"
    },
    {
     "name": "stderr",
     "output_type": "stream",
     "text": [
      "/Users/ericbennett/miniforge3/lib/python3.10/site-packages/lightning_fabric/utilities/cloud_io.py:57: You are using `torch.load` with `weights_only=False` (the current default value), which uses the default pickle module implicitly. It is possible to construct malicious pickle data which will execute arbitrary code during unpickling (See https://github.com/pytorch/pytorch/blob/main/SECURITY.md#untrusted-models for more details). In a future release, the default value for `weights_only` will be flipped to `True`. This limits the functions that could be executed during unpickling. Arbitrary objects will no longer be allowed to be loaded via this mode unless they are explicitly allowlisted by the user via `torch.serialization.add_safe_globals`. We recommend you start setting `weights_only=True` for any use case where you don't have full control of the loaded file. Please open an issue on GitHub for any issues related to this experimental feature.\n",
      "Lightning automatically upgraded your loaded checkpoint from v1.8.3.post1 to v2.3.3. To apply the upgrade to your files permanently, run `python -m pytorch_lightning.utilities.upgrade_checkpoint ../../../.cache/huggingface/hub/models--Unbabel--wmt22-comet-da/snapshots/371e9839ca4e213dde891b066cf3080f75ec7e72/checkpoints/model.ckpt`\n",
      "Encoder model frozen.\n",
      "/Users/ericbennett/miniforge3/lib/python3.10/site-packages/pytorch_lightning/core/saving.py:195: Found keys that are not in the model state dict but in the checkpoint: ['encoder.model.embeddings.position_ids']\n",
      "GPU available: True (mps), used: False\n",
      "TPU available: False, using: 0 TPU cores\n",
      "HPU available: False, using: 0 HPUs\n",
      "/Users/ericbennett/miniforge3/lib/python3.10/site-packages/pytorch_lightning/trainer/setup.py:177: GPU available but not used. You can set it by doing `Trainer(accelerator='gpu')`.\n",
      "Predicting DataLoader 0: 100%|██████████████████| 63/63 [01:47<00:00,  1.71s/it]\n"
     ]
    },
    {
     "data": {
      "application/vnd.jupyter.widget-view+json": {
       "model_id": "4c26152c67304d56bd37a6889958e5bc",
       "version_major": 2,
       "version_minor": 0
      },
      "text/plain": [
       "Fetching 5 files:   0%|          | 0/5 [00:00<?, ?it/s]"
      ]
     },
     "metadata": {},
     "output_type": "display_data"
    },
    {
     "name": "stderr",
     "output_type": "stream",
     "text": [
      "/Users/ericbennett/miniforge3/lib/python3.10/site-packages/lightning_fabric/utilities/cloud_io.py:57: You are using `torch.load` with `weights_only=False` (the current default value), which uses the default pickle module implicitly. It is possible to construct malicious pickle data which will execute arbitrary code during unpickling (See https://github.com/pytorch/pytorch/blob/main/SECURITY.md#untrusted-models for more details). In a future release, the default value for `weights_only` will be flipped to `True`. This limits the functions that could be executed during unpickling. Arbitrary objects will no longer be allowed to be loaded via this mode unless they are explicitly allowlisted by the user via `torch.serialization.add_safe_globals`. We recommend you start setting `weights_only=True` for any use case where you don't have full control of the loaded file. Please open an issue on GitHub for any issues related to this experimental feature.\n",
      "Lightning automatically upgraded your loaded checkpoint from v1.8.3.post1 to v2.3.3. To apply the upgrade to your files permanently, run `python -m pytorch_lightning.utilities.upgrade_checkpoint ../../../.cache/huggingface/hub/models--Unbabel--wmt22-comet-da/snapshots/371e9839ca4e213dde891b066cf3080f75ec7e72/checkpoints/model.ckpt`\n",
      "Encoder model frozen.\n",
      "/Users/ericbennett/miniforge3/lib/python3.10/site-packages/pytorch_lightning/core/saving.py:195: Found keys that are not in the model state dict but in the checkpoint: ['encoder.model.embeddings.position_ids']\n",
      "GPU available: True (mps), used: False\n",
      "TPU available: False, using: 0 TPU cores\n",
      "HPU available: False, using: 0 HPUs\n",
      "/Users/ericbennett/miniforge3/lib/python3.10/site-packages/pytorch_lightning/trainer/setup.py:177: GPU available but not used. You can set it by doing `Trainer(accelerator='gpu')`.\n",
      "Predicting DataLoader 0: 100%|██████████████████| 63/63 [01:51<00:00,  1.77s/it]\n"
     ]
    },
    {
     "data": {
      "application/vnd.jupyter.widget-view+json": {
       "model_id": "1f3010bcd3f841c6acf1fda4ce9fbf09",
       "version_major": 2,
       "version_minor": 0
      },
      "text/plain": [
       "Fetching 5 files:   0%|          | 0/5 [00:00<?, ?it/s]"
      ]
     },
     "metadata": {},
     "output_type": "display_data"
    },
    {
     "name": "stderr",
     "output_type": "stream",
     "text": [
      "/Users/ericbennett/miniforge3/lib/python3.10/site-packages/lightning_fabric/utilities/cloud_io.py:57: You are using `torch.load` with `weights_only=False` (the current default value), which uses the default pickle module implicitly. It is possible to construct malicious pickle data which will execute arbitrary code during unpickling (See https://github.com/pytorch/pytorch/blob/main/SECURITY.md#untrusted-models for more details). In a future release, the default value for `weights_only` will be flipped to `True`. This limits the functions that could be executed during unpickling. Arbitrary objects will no longer be allowed to be loaded via this mode unless they are explicitly allowlisted by the user via `torch.serialization.add_safe_globals`. We recommend you start setting `weights_only=True` for any use case where you don't have full control of the loaded file. Please open an issue on GitHub for any issues related to this experimental feature.\n",
      "Lightning automatically upgraded your loaded checkpoint from v1.8.3.post1 to v2.3.3. To apply the upgrade to your files permanently, run `python -m pytorch_lightning.utilities.upgrade_checkpoint ../../../.cache/huggingface/hub/models--Unbabel--wmt22-comet-da/snapshots/371e9839ca4e213dde891b066cf3080f75ec7e72/checkpoints/model.ckpt`\n",
      "Encoder model frozen.\n",
      "/Users/ericbennett/miniforge3/lib/python3.10/site-packages/pytorch_lightning/core/saving.py:195: Found keys that are not in the model state dict but in the checkpoint: ['encoder.model.embeddings.position_ids']\n",
      "GPU available: True (mps), used: False\n",
      "TPU available: False, using: 0 TPU cores\n",
      "HPU available: False, using: 0 HPUs\n",
      "/Users/ericbennett/miniforge3/lib/python3.10/site-packages/pytorch_lightning/trainer/setup.py:177: GPU available but not used. You can set it by doing `Trainer(accelerator='gpu')`.\n",
      "Predicting DataLoader 0: 100%|██████████████████| 63/63 [01:43<00:00,  1.64s/it]\n"
     ]
    },
    {
     "data": {
      "application/vnd.jupyter.widget-view+json": {
       "model_id": "d3f5628220834a7197695b05db56a76a",
       "version_major": 2,
       "version_minor": 0
      },
      "text/plain": [
       "Fetching 5 files:   0%|          | 0/5 [00:00<?, ?it/s]"
      ]
     },
     "metadata": {},
     "output_type": "display_data"
    },
    {
     "name": "stderr",
     "output_type": "stream",
     "text": [
      "/Users/ericbennett/miniforge3/lib/python3.10/site-packages/lightning_fabric/utilities/cloud_io.py:57: You are using `torch.load` with `weights_only=False` (the current default value), which uses the default pickle module implicitly. It is possible to construct malicious pickle data which will execute arbitrary code during unpickling (See https://github.com/pytorch/pytorch/blob/main/SECURITY.md#untrusted-models for more details). In a future release, the default value for `weights_only` will be flipped to `True`. This limits the functions that could be executed during unpickling. Arbitrary objects will no longer be allowed to be loaded via this mode unless they are explicitly allowlisted by the user via `torch.serialization.add_safe_globals`. We recommend you start setting `weights_only=True` for any use case where you don't have full control of the loaded file. Please open an issue on GitHub for any issues related to this experimental feature.\n",
      "Lightning automatically upgraded your loaded checkpoint from v1.8.3.post1 to v2.3.3. To apply the upgrade to your files permanently, run `python -m pytorch_lightning.utilities.upgrade_checkpoint ../../../.cache/huggingface/hub/models--Unbabel--wmt22-comet-da/snapshots/371e9839ca4e213dde891b066cf3080f75ec7e72/checkpoints/model.ckpt`\n",
      "Encoder model frozen.\n",
      "/Users/ericbennett/miniforge3/lib/python3.10/site-packages/pytorch_lightning/core/saving.py:195: Found keys that are not in the model state dict but in the checkpoint: ['encoder.model.embeddings.position_ids']\n",
      "GPU available: True (mps), used: False\n",
      "TPU available: False, using: 0 TPU cores\n",
      "HPU available: False, using: 0 HPUs\n",
      "/Users/ericbennett/miniforge3/lib/python3.10/site-packages/pytorch_lightning/trainer/setup.py:177: GPU available but not used. You can set it by doing `Trainer(accelerator='gpu')`.\n",
      "Predicting DataLoader 0: 100%|██████████████████| 63/63 [01:42<00:00,  1.63s/it]\n"
     ]
    },
    {
     "data": {
      "application/vnd.jupyter.widget-view+json": {
       "model_id": "3ca67786a56f40abb98df4a4386027cf",
       "version_major": 2,
       "version_minor": 0
      },
      "text/plain": [
       "Fetching 5 files:   0%|          | 0/5 [00:00<?, ?it/s]"
      ]
     },
     "metadata": {},
     "output_type": "display_data"
    },
    {
     "name": "stderr",
     "output_type": "stream",
     "text": [
      "/Users/ericbennett/miniforge3/lib/python3.10/site-packages/lightning_fabric/utilities/cloud_io.py:57: You are using `torch.load` with `weights_only=False` (the current default value), which uses the default pickle module implicitly. It is possible to construct malicious pickle data which will execute arbitrary code during unpickling (See https://github.com/pytorch/pytorch/blob/main/SECURITY.md#untrusted-models for more details). In a future release, the default value for `weights_only` will be flipped to `True`. This limits the functions that could be executed during unpickling. Arbitrary objects will no longer be allowed to be loaded via this mode unless they are explicitly allowlisted by the user via `torch.serialization.add_safe_globals`. We recommend you start setting `weights_only=True` for any use case where you don't have full control of the loaded file. Please open an issue on GitHub for any issues related to this experimental feature.\n",
      "Lightning automatically upgraded your loaded checkpoint from v1.8.3.post1 to v2.3.3. To apply the upgrade to your files permanently, run `python -m pytorch_lightning.utilities.upgrade_checkpoint ../../../.cache/huggingface/hub/models--Unbabel--wmt22-comet-da/snapshots/371e9839ca4e213dde891b066cf3080f75ec7e72/checkpoints/model.ckpt`\n",
      "Encoder model frozen.\n",
      "/Users/ericbennett/miniforge3/lib/python3.10/site-packages/pytorch_lightning/core/saving.py:195: Found keys that are not in the model state dict but in the checkpoint: ['encoder.model.embeddings.position_ids']\n",
      "GPU available: True (mps), used: False\n",
      "TPU available: False, using: 0 TPU cores\n",
      "HPU available: False, using: 0 HPUs\n",
      "/Users/ericbennett/miniforge3/lib/python3.10/site-packages/pytorch_lightning/trainer/setup.py:177: GPU available but not used. You can set it by doing `Trainer(accelerator='gpu')`.\n",
      "Predicting DataLoader 0: 100%|██████████████████| 63/63 [01:48<00:00,  1.72s/it]\n"
     ]
    },
    {
     "data": {
      "application/vnd.jupyter.widget-view+json": {
       "model_id": "6c013a898285400e8f70ba677e9e900c",
       "version_major": 2,
       "version_minor": 0
      },
      "text/plain": [
       "Fetching 5 files:   0%|          | 0/5 [00:00<?, ?it/s]"
      ]
     },
     "metadata": {},
     "output_type": "display_data"
    },
    {
     "name": "stderr",
     "output_type": "stream",
     "text": [
      "/Users/ericbennett/miniforge3/lib/python3.10/site-packages/lightning_fabric/utilities/cloud_io.py:57: You are using `torch.load` with `weights_only=False` (the current default value), which uses the default pickle module implicitly. It is possible to construct malicious pickle data which will execute arbitrary code during unpickling (See https://github.com/pytorch/pytorch/blob/main/SECURITY.md#untrusted-models for more details). In a future release, the default value for `weights_only` will be flipped to `True`. This limits the functions that could be executed during unpickling. Arbitrary objects will no longer be allowed to be loaded via this mode unless they are explicitly allowlisted by the user via `torch.serialization.add_safe_globals`. We recommend you start setting `weights_only=True` for any use case where you don't have full control of the loaded file. Please open an issue on GitHub for any issues related to this experimental feature.\n",
      "Lightning automatically upgraded your loaded checkpoint from v1.8.3.post1 to v2.3.3. To apply the upgrade to your files permanently, run `python -m pytorch_lightning.utilities.upgrade_checkpoint ../../../.cache/huggingface/hub/models--Unbabel--wmt22-comet-da/snapshots/371e9839ca4e213dde891b066cf3080f75ec7e72/checkpoints/model.ckpt`\n",
      "Encoder model frozen.\n",
      "/Users/ericbennett/miniforge3/lib/python3.10/site-packages/pytorch_lightning/core/saving.py:195: Found keys that are not in the model state dict but in the checkpoint: ['encoder.model.embeddings.position_ids']\n",
      "GPU available: True (mps), used: False\n",
      "TPU available: False, using: 0 TPU cores\n",
      "HPU available: False, using: 0 HPUs\n",
      "/Users/ericbennett/miniforge3/lib/python3.10/site-packages/pytorch_lightning/trainer/setup.py:177: GPU available but not used. You can set it by doing `Trainer(accelerator='gpu')`.\n",
      "Predicting DataLoader 0: 100%|██████████████████| 63/63 [01:45<00:00,  1.67s/it]\n"
     ]
    }
   ],
   "source": [
    "comet_scores2008 = []\n",
    "\n",
    "\n",
    "for name in colnames:    \n",
    "    formatted_data2008 = []\n",
    "    \n",
    "    for _, row in df2008.iterrows():\n",
    "        entry = {\n",
    "            \"src\": row['src'],\n",
    "            \"mt\": row[name],\n",
    "            \"ref\": [row['ref1'],row['ref2'], row['ref3']]\n",
    "        }\n",
    "        formatted_data2008.append(entry)\n",
    "\n",
    "    model_path = download_model(\"Unbabel/wmt22-comet-da\")\n",
    "    model = load_from_checkpoint(model_path)\n",
    "    model_output = model.predict(formatted_data2008, batch_size=8, gpus=0)\n",
    "    \n",
    "    comet_score = sum(model_output.scores) / len(model_output.scores)\n",
    "    \n",
    "    comet_scores2008.append((name, comet_score))\n",
    "    "
   ]
  },
  {
   "cell_type": "code",
   "execution_count": 13,
   "metadata": {},
   "outputs": [
    {
     "data": {
      "image/png": "[encoded data removed]",
      "text/plain": [
       "<Figure size 600x400 with 1 Axes>"
      ]
     },
     "metadata": {},
     "output_type": "display_data"
    },
    {
     "name": "stdout",
     "output_type": "stream",
     "text": [
      "2008 COMET Scores:\n",
      "\n",
      "ChineseEnglish: 0.7202454950809479\n",
      "ChineseGermanEnglish: 0.7058889400959015\n",
      "ChineseRussianEnglish: 0.7051904627680778\n",
      "ChineseJapaneseEnglish: 0.7045392127037048\n",
      "ChineseTurkishEnglish: 0.7030085378289223\n",
      "ChineseGermanJapaneseEnglish: 0.699595034122467\n",
      "ChineseJapaneseGermanEnglish: 0.6958579642176628\n"
     ]
    }
   ],
   "source": [
    "vis_df2008 = pd.DataFrame(comet_scores2008, columns=['name', 'score'])\n",
    "vis_df2008 = vis_df2008.sort_values(by='score', ascending=False)\n",
    "\n",
    "plt.figure(figsize=(6, 4))\n",
    "plt.bar(vis_df2008['name'], vis_df2008['score'], color='#ADCEEB')\n",
    "plt.title('2008 COMET Scores')\n",
    "plt.xlabel('Model')\n",
    "plt.ylabel('Score')\n",
    "plt.xticks(rotation=45, ha='right')\n",
    "plt.grid(axis='y')\n",
    "plt.tight_layout()\n",
    "plt.show()\n",
    "\n",
    "#print scores\n",
    "print(\"2008 COMET Scores:\\n\")\n",
    "\n",
    "for index, row in vis_df2008.iterrows():\n",
    "    print(f\"{row['name']}: {row['score']}\")\n"
   ]
  },
  {
   "cell_type": "markdown",
   "metadata": {},
   "source": [
    "As you can see while not as pronounced the direct translation from Chinese to English evaluated with COMET yields the same results as BLEU (though it is interesting to note that Chinese->Russian->English and Chinese->Turkish->English switch positions between the two evaluation tools)"
   ]
  },
  {
   "cell_type": "markdown",
   "metadata": {},
   "source": [
    "# Conclusion\n",
    "\n",
    "So, what have we learned? On the surface, this is very bleak. It seems there is pretty conclusive evidence to support the idea that using \"more\" translations not only DOESN'T HELP, but in fact HURTS translation quality.\n",
    "\n",
    "Why is this sort of interlingual translation used at all in Machine Translation then? Here's some basic research:\n",
    "\n",
    "- Using intermediary languages can allow for much wider application through a much smaller corpora. For example, if you have access to a Spanish to English corpus and an English to Chinese corpus you can use English as an intermediary to stretch to languages without easy access to data on translations.\n",
    "\n",
    "- Resource availability and language could contribute to better performance using an intermediate language. For example, English to Ukrainian through Russian could provide better results than purely English to Ukranian\n",
    "\n",
    "- English was often used as an intermediary earlier on in this research, looks like that was more based on availability and may have damaged machine translation research!\n",
    "\n",
    "- LLMs may access other languages with their translations, but to look further at that would have to compare something along the lines of an LLM with just Chinese and English data and one with Chinese and English and Japanese data to see if access to more languages yields better results."
   ]
  }
 ],
 "metadata": {
  "kernelspec": {
   "display_name": "Python 3 (ipykernel)",
   "language": "python",
   "name": "python3"
  },
  "language_info": {
   "codemirror_mode": {
    "name": "ipython",
    "version": 3
   },
   "file_extension": ".py",
   "mimetype": "text/x-python",
   "name": "python",
   "nbconvert_exporter": "python",
   "pygments_lexer": "ipython3",
   "version": "3.10.6"
  },
  "vscode": {
   "interpreter": {
    "hash": "b0fa6594d8f4cbf19f97940f81e996739fb7646882a419484c72d19e05852a7e"
   }
  }
 },
 "nbformat": 4,
 "nbformat_minor": 2
}
